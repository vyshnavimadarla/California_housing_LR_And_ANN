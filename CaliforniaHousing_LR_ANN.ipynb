{
 "cells": [
  {
   "cell_type": "markdown",
   "id": "1dde697c",
   "metadata": {},
   "source": [
    "# Task 1: \n",
    "Data Preprocessing:\n",
    "\n",
    "Explore and understand the features of the dataset.\n",
    "Handle any missing values or outliers if present.\n",
    "Split the dataset into training and testing sets.\n"
   ]
  },
  {
   "cell_type": "code",
   "execution_count": 2,
   "id": "d454a524",
   "metadata": {},
   "outputs": [],
   "source": [
    "#importing all the required libraries\n",
    "import pandas as pd\n",
    "import numpy as np\n",
    "import matplotlib.pyplot as plt\n",
    "from sklearn.datasets import fetch_california_housing\n",
    "from sklearn.metrics import accuracy_score\n",
    "import keras as ks "
   ]
  },
  {
   "cell_type": "code",
   "execution_count": 8,
   "id": "e76ccfee",
   "metadata": {},
   "outputs": [],
   "source": [
    "housing_data =fetch_california_housing()"
   ]
  },
  {
   "cell_type": "code",
   "execution_count": 9,
   "id": "deb0b9db",
   "metadata": {},
   "outputs": [
    {
     "data": {
      "text/plain": [
       "{'data': array([[   8.3252    ,   41.        ,    6.98412698, ...,    2.55555556,\n",
       "           37.88      , -122.23      ],\n",
       "        [   8.3014    ,   21.        ,    6.23813708, ...,    2.10984183,\n",
       "           37.86      , -122.22      ],\n",
       "        [   7.2574    ,   52.        ,    8.28813559, ...,    2.80225989,\n",
       "           37.85      , -122.24      ],\n",
       "        ...,\n",
       "        [   1.7       ,   17.        ,    5.20554273, ...,    2.3256351 ,\n",
       "           39.43      , -121.22      ],\n",
       "        [   1.8672    ,   18.        ,    5.32951289, ...,    2.12320917,\n",
       "           39.43      , -121.32      ],\n",
       "        [   2.3886    ,   16.        ,    5.25471698, ...,    2.61698113,\n",
       "           39.37      , -121.24      ]]),\n",
       " 'target': array([4.526, 3.585, 3.521, ..., 0.923, 0.847, 0.894]),\n",
       " 'frame': None,\n",
       " 'target_names': ['MedHouseVal'],\n",
       " 'feature_names': ['MedInc',\n",
       "  'HouseAge',\n",
       "  'AveRooms',\n",
       "  'AveBedrms',\n",
       "  'Population',\n",
       "  'AveOccup',\n",
       "  'Latitude',\n",
       "  'Longitude'],\n",
       " 'DESCR': '.. _california_housing_dataset:\\n\\nCalifornia Housing dataset\\n--------------------------\\n\\n**Data Set Characteristics:**\\n\\n    :Number of Instances: 20640\\n\\n    :Number of Attributes: 8 numeric, predictive attributes and the target\\n\\n    :Attribute Information:\\n        - MedInc        median income in block group\\n        - HouseAge      median house age in block group\\n        - AveRooms      average number of rooms per household\\n        - AveBedrms     average number of bedrooms per household\\n        - Population    block group population\\n        - AveOccup      average number of household members\\n        - Latitude      block group latitude\\n        - Longitude     block group longitude\\n\\n    :Missing Attribute Values: None\\n\\nThis dataset was obtained from the StatLib repository.\\nhttps://www.dcc.fc.up.pt/~ltorgo/Regression/cal_housing.html\\n\\nThe target variable is the median house value for California districts,\\nexpressed in hundreds of thousands of dollars ($100,000).\\n\\nThis dataset was derived from the 1990 U.S. census, using one row per census\\nblock group. A block group is the smallest geographical unit for which the U.S.\\nCensus Bureau publishes sample data (a block group typically has a population\\nof 600 to 3,000 people).\\n\\nA household is a group of people residing within a home. Since the average\\nnumber of rooms and bedrooms in this dataset are provided per household, these\\ncolumns may take surprisingly large values for block groups with few households\\nand many empty houses, such as vacation resorts.\\n\\nIt can be downloaded/loaded using the\\n:func:`sklearn.datasets.fetch_california_housing` function.\\n\\n.. topic:: References\\n\\n    - Pace, R. Kelley and Ronald Barry, Sparse Spatial Autoregressions,\\n      Statistics and Probability Letters, 33 (1997) 291-297\\n'}"
      ]
     },
     "execution_count": 9,
     "metadata": {},
     "output_type": "execute_result"
    }
   ],
   "source": [
    "housing_data.keys()\n",
    "housing_data"
   ]
  },
  {
   "cell_type": "code",
   "execution_count": 10,
   "id": "30341d7b",
   "metadata": {},
   "outputs": [],
   "source": [
    "#Give all data columns in X and and y in target variable \n",
    "X = pd.DataFrame(housing_data.data, columns = housing_data.feature_names)\n",
    "y = housing_data.target"
   ]
  },
  {
   "cell_type": "code",
   "execution_count": 11,
   "id": "bbe27f81",
   "metadata": {},
   "outputs": [
    {
     "data": {
      "text/html": [
       "<div>\n",
       "<style scoped>\n",
       "    .dataframe tbody tr th:only-of-type {\n",
       "        vertical-align: middle;\n",
       "    }\n",
       "\n",
       "    .dataframe tbody tr th {\n",
       "        vertical-align: top;\n",
       "    }\n",
       "\n",
       "    .dataframe thead th {\n",
       "        text-align: right;\n",
       "    }\n",
       "</style>\n",
       "<table border=\"1\" class=\"dataframe\">\n",
       "  <thead>\n",
       "    <tr style=\"text-align: right;\">\n",
       "      <th></th>\n",
       "      <th>MedInc</th>\n",
       "      <th>HouseAge</th>\n",
       "      <th>AveRooms</th>\n",
       "      <th>AveBedrms</th>\n",
       "      <th>Population</th>\n",
       "      <th>AveOccup</th>\n",
       "      <th>Latitude</th>\n",
       "      <th>Longitude</th>\n",
       "    </tr>\n",
       "  </thead>\n",
       "  <tbody>\n",
       "    <tr>\n",
       "      <th>count</th>\n",
       "      <td>20640.000000</td>\n",
       "      <td>20640.000000</td>\n",
       "      <td>20640.000000</td>\n",
       "      <td>20640.000000</td>\n",
       "      <td>20640.000000</td>\n",
       "      <td>20640.000000</td>\n",
       "      <td>20640.000000</td>\n",
       "      <td>20640.000000</td>\n",
       "    </tr>\n",
       "    <tr>\n",
       "      <th>mean</th>\n",
       "      <td>3.870671</td>\n",
       "      <td>28.639486</td>\n",
       "      <td>5.429000</td>\n",
       "      <td>1.096675</td>\n",
       "      <td>1425.476744</td>\n",
       "      <td>3.070655</td>\n",
       "      <td>35.631861</td>\n",
       "      <td>-119.569704</td>\n",
       "    </tr>\n",
       "    <tr>\n",
       "      <th>std</th>\n",
       "      <td>1.899822</td>\n",
       "      <td>12.585558</td>\n",
       "      <td>2.474173</td>\n",
       "      <td>0.473911</td>\n",
       "      <td>1132.462122</td>\n",
       "      <td>10.386050</td>\n",
       "      <td>2.135952</td>\n",
       "      <td>2.003532</td>\n",
       "    </tr>\n",
       "    <tr>\n",
       "      <th>min</th>\n",
       "      <td>0.499900</td>\n",
       "      <td>1.000000</td>\n",
       "      <td>0.846154</td>\n",
       "      <td>0.333333</td>\n",
       "      <td>3.000000</td>\n",
       "      <td>0.692308</td>\n",
       "      <td>32.540000</td>\n",
       "      <td>-124.350000</td>\n",
       "    </tr>\n",
       "    <tr>\n",
       "      <th>25%</th>\n",
       "      <td>2.563400</td>\n",
       "      <td>18.000000</td>\n",
       "      <td>4.440716</td>\n",
       "      <td>1.006079</td>\n",
       "      <td>787.000000</td>\n",
       "      <td>2.429741</td>\n",
       "      <td>33.930000</td>\n",
       "      <td>-121.800000</td>\n",
       "    </tr>\n",
       "    <tr>\n",
       "      <th>50%</th>\n",
       "      <td>3.534800</td>\n",
       "      <td>29.000000</td>\n",
       "      <td>5.229129</td>\n",
       "      <td>1.048780</td>\n",
       "      <td>1166.000000</td>\n",
       "      <td>2.818116</td>\n",
       "      <td>34.260000</td>\n",
       "      <td>-118.490000</td>\n",
       "    </tr>\n",
       "    <tr>\n",
       "      <th>75%</th>\n",
       "      <td>4.743250</td>\n",
       "      <td>37.000000</td>\n",
       "      <td>6.052381</td>\n",
       "      <td>1.099526</td>\n",
       "      <td>1725.000000</td>\n",
       "      <td>3.282261</td>\n",
       "      <td>37.710000</td>\n",
       "      <td>-118.010000</td>\n",
       "    </tr>\n",
       "    <tr>\n",
       "      <th>max</th>\n",
       "      <td>15.000100</td>\n",
       "      <td>52.000000</td>\n",
       "      <td>141.909091</td>\n",
       "      <td>34.066667</td>\n",
       "      <td>35682.000000</td>\n",
       "      <td>1243.333333</td>\n",
       "      <td>41.950000</td>\n",
       "      <td>-114.310000</td>\n",
       "    </tr>\n",
       "  </tbody>\n",
       "</table>\n",
       "</div>"
      ],
      "text/plain": [
       "             MedInc      HouseAge      AveRooms     AveBedrms    Population  \\\n",
       "count  20640.000000  20640.000000  20640.000000  20640.000000  20640.000000   \n",
       "mean       3.870671     28.639486      5.429000      1.096675   1425.476744   \n",
       "std        1.899822     12.585558      2.474173      0.473911   1132.462122   \n",
       "min        0.499900      1.000000      0.846154      0.333333      3.000000   \n",
       "25%        2.563400     18.000000      4.440716      1.006079    787.000000   \n",
       "50%        3.534800     29.000000      5.229129      1.048780   1166.000000   \n",
       "75%        4.743250     37.000000      6.052381      1.099526   1725.000000   \n",
       "max       15.000100     52.000000    141.909091     34.066667  35682.000000   \n",
       "\n",
       "           AveOccup      Latitude     Longitude  \n",
       "count  20640.000000  20640.000000  20640.000000  \n",
       "mean       3.070655     35.631861   -119.569704  \n",
       "std       10.386050      2.135952      2.003532  \n",
       "min        0.692308     32.540000   -124.350000  \n",
       "25%        2.429741     33.930000   -121.800000  \n",
       "50%        2.818116     34.260000   -118.490000  \n",
       "75%        3.282261     37.710000   -118.010000  \n",
       "max     1243.333333     41.950000   -114.310000  "
      ]
     },
     "execution_count": 11,
     "metadata": {},
     "output_type": "execute_result"
    }
   ],
   "source": [
    "#get the statistical summary of X\n",
    "X.describe()\n"
   ]
  },
  {
   "cell_type": "code",
   "execution_count": 12,
   "id": "bea58532",
   "metadata": {},
   "outputs": [
    {
     "data": {
      "text/plain": [
       "MedInc        0\n",
       "HouseAge      0\n",
       "AveRooms      0\n",
       "AveBedrms     0\n",
       "Population    0\n",
       "AveOccup      0\n",
       "Latitude      0\n",
       "Longitude     0\n",
       "dtype: int64"
      ]
     },
     "execution_count": 12,
     "metadata": {},
     "output_type": "execute_result"
    }
   ],
   "source": [
    "# check and handle the null vaues\n",
    "X.isna().sum()"
   ]
  },
  {
   "cell_type": "markdown",
   "id": "30761dc6",
   "metadata": {},
   "source": [
    "# Linear Regression:\n",
    "\n",
    "Implement a Linear Regression model using scikit-learn.\n",
    "Train the model on the training set.\n",
    "Make predictions on the testing set.\n",
    "Evaluate the model's performance using appropriate regression metrics (e.g., Mean Squared Error, R2 Sc"
   ]
  },
  {
   "cell_type": "code",
   "execution_count": 14,
   "id": "77774b0d",
   "metadata": {},
   "outputs": [],
   "source": [
    "#validate the data --- to check the overfittig during training\n",
    "#Training my model on a training set and evaluate its performance on both the training and a separate validation set.\n",
    "#If the training performance is significantly better than the validation performance, it may indicate overfitting.\n",
    "from sklearn.model_selection import train_test_split\n",
    "X_train,X_test, y_train, y_test = train_test_split(X,y, test_size=0.25, random_state = 42) \n"
   ]
  },
  {
   "cell_type": "code",
   "execution_count": 15,
   "id": "74d6e03e",
   "metadata": {},
   "outputs": [
    {
     "data": {
      "text/plain": [
       "((15480, 8), (5160, 8), (15480,), (5160,))"
      ]
     },
     "execution_count": 15,
     "metadata": {},
     "output_type": "execute_result"
    }
   ],
   "source": [
    "X_train.shape, X_test.shape, y_train.shape, y_test.shape"
   ]
  },
  {
   "cell_type": "code",
   "execution_count": 17,
   "id": "dfa5d6e2",
   "metadata": {},
   "outputs": [],
   "source": [
    "#validation\n",
    "X_train_full,X_valid,y_train_full, y_valid = train_test_split(X_train, y_train, test_size=0.2, random_state = 42)"
   ]
  },
  {
   "cell_type": "code",
   "execution_count": 18,
   "id": "1b91507b",
   "metadata": {},
   "outputs": [],
   "source": [
    "from sklearn.preprocessing import StandardScaler\n",
    "scaler = StandardScaler()\n",
    "X_train_sc = scaler.fit_transform(X_train_full)\n",
    "X_valid_sc = scaler.transform(X_valid)\n",
    "X_test_sc = scaler.transform(X_test)\n"
   ]
  },
  {
   "cell_type": "code",
   "execution_count": 20,
   "id": "aed71f67",
   "metadata": {},
   "outputs": [
    {
     "name": "stdout",
     "output_type": "stream",
     "text": [
      "mse:  0.5437517542538244\n",
      "mae:  0.5306356717846102\n",
      "r2:  0.5890686862317929\n"
     ]
    }
   ],
   "source": [
    "from sklearn.linear_model import LinearRegression\n",
    "from sklearn.metrics import r2_score,mean_absolute_error, mean_squared_error\n",
    "lr = LinearRegression()\n",
    "lr.fit(X_train_sc, y_train_full)\n",
    "y_pred=lr.predict(X_test_sc)\n",
    "print(\"mse: \", mean_squared_error(y_test, y_pred))\n",
    "print(\"mae: \", mean_absolute_error(y_test, y_pred))\n",
    "print(\"r2: \", r2_score(y_test, y_pred))"
   ]
  },
  {
   "cell_type": "code",
   "execution_count": 26,
   "id": "e856ee43",
   "metadata": {},
   "outputs": [
    {
     "name": "stdout",
     "output_type": "stream",
     "text": [
      "mse:  0.5247519297475677\n",
      "mae:  0.5345808134906599\n",
      "r2:  0.6110162364063001\n"
     ]
    }
   ],
   "source": [
    "#training Prediction \n",
    "y_pred_train = lr.predict(X_train_sc)\n",
    "print(\"mse: \", mean_squared_error(y_train_full, y_pred_train))\n",
    "print(\"mae: \", mean_absolute_error(y_train_full, y_pred_train))\n",
    "print(\"r2: \", r2_score(y_train_full, y_pred_train))"
   ]
  },
  {
   "cell_type": "markdown",
   "id": "8a325ee2",
   "metadata": {},
   "source": [
    "# Artificial Neural Network (ANN):\n",
    "\n",
    "Implement a simple ANN for regression using a framework like TensorFlow or Keras.\n",
    "Design the architecture of the neural network, including the input and output layers.\n",
    "Train the ANN on the training set.\n",
    "Make predictions on the testing set.\n",
    "Evaluate the model's performance using the same regression metrics used for Linear Regression."
   ]
  },
  {
   "cell_type": "code",
   "execution_count": 27,
   "id": "48e0e91d",
   "metadata": {},
   "outputs": [
    {
     "name": "stdout",
     "output_type": "stream",
     "text": [
      "WARNING:tensorflow:From C:\\Users\\vaish\\anaconda3\\Lib\\site-packages\\keras\\src\\backend.py:873: The name tf.get_default_graph is deprecated. Please use tf.compat.v1.get_default_graph instead.\n",
      "\n"
     ]
    }
   ],
   "source": [
    "#ANN model \n",
    "Layers= [ks.layers.Dense(30, activation = 'relu', input_shape= X_train_sc.shape[1:]),\n",
    "         ks.layers.Dense(10, activation = 'relu'),\n",
    "         ks.layers.Dense(5, activation = 'relu'),\n",
    "         ks.layers.Dense(1)\n",
    "        ]"
   ]
  },
  {
   "cell_type": "code",
   "execution_count": 29,
   "id": "ea1e0762",
   "metadata": {},
   "outputs": [
    {
     "name": "stdout",
     "output_type": "stream",
     "text": [
      "Model: \"sequential_1\"\n",
      "_________________________________________________________________\n",
      " Layer (type)                Output Shape              Param #   \n",
      "=================================================================\n",
      " dense (Dense)               (None, 30)                270       \n",
      "                                                                 \n",
      " dense_1 (Dense)             (None, 10)                310       \n",
      "                                                                 \n",
      " dense_2 (Dense)             (None, 5)                 55        \n",
      "                                                                 \n",
      " dense_3 (Dense)             (None, 1)                 6         \n",
      "                                                                 \n",
      "=================================================================\n",
      "Total params: 641 (2.50 KB)\n",
      "Trainable params: 641 (2.50 KB)\n",
      "Non-trainable params: 0 (0.00 Byte)\n",
      "_________________________________________________________________\n"
     ]
    }
   ],
   "source": [
    "housingModel_ann=ks.models.Sequential(Layers)\n",
    "housingModel_ann.summary()"
   ]
  },
  {
   "cell_type": "code",
   "execution_count": 37,
   "id": "0421dbbf",
   "metadata": {},
   "outputs": [],
   "source": [
    "#If we have more outliers we use mae for LOSS\n",
    "LOSS = \"mse\"\n",
    "OPTIMIZER = \"sgd\"\n",
    "housingModel_ann.compile(optimizer = OPTIMIZER, loss = LOSS)"
   ]
  },
  {
   "cell_type": "code",
   "execution_count": 38,
   "id": "b7f3bde8",
   "metadata": {},
   "outputs": [
    {
     "name": "stdout",
     "output_type": "stream",
     "text": [
      "Epoch 1/20\n",
      "WARNING:tensorflow:From C:\\Users\\vaish\\anaconda3\\Lib\\site-packages\\keras\\src\\utils\\tf_utils.py:492: The name tf.ragged.RaggedTensorValue is deprecated. Please use tf.compat.v1.ragged.RaggedTensorValue instead.\n",
      "\n",
      "310/310 [==============================] - 4s 7ms/step - loss: 0.7423 - val_loss: 0.5285\n",
      "Epoch 2/20\n",
      "310/310 [==============================] - 2s 5ms/step - loss: 0.4750 - val_loss: 0.4766\n",
      "Epoch 3/20\n",
      "310/310 [==============================] - 2s 5ms/step - loss: 0.4827 - val_loss: 0.4778\n",
      "Epoch 4/20\n",
      "310/310 [==============================] - 2s 5ms/step - loss: 0.5773 - val_loss: 0.4516\n",
      "Epoch 5/20\n",
      "310/310 [==============================] - 2s 5ms/step - loss: 0.4466 - val_loss: 0.4342\n",
      "Epoch 6/20\n",
      "310/310 [==============================] - 2s 5ms/step - loss: 0.4235 - val_loss: 0.4216\n",
      "Epoch 7/20\n",
      "310/310 [==============================] - 2s 5ms/step - loss: 0.4045 - val_loss: 0.4108\n",
      "Epoch 8/20\n",
      "310/310 [==============================] - 2s 5ms/step - loss: 0.3973 - val_loss: 0.4046\n",
      "Epoch 9/20\n",
      "310/310 [==============================] - 1s 5ms/step - loss: 0.3857 - val_loss: 0.3943\n",
      "Epoch 10/20\n",
      "310/310 [==============================] - 1s 5ms/step - loss: 0.3796 - val_loss: 0.3867\n",
      "Epoch 11/20\n",
      "310/310 [==============================] - 2s 5ms/step - loss: 0.3731 - val_loss: 0.3915\n",
      "Epoch 12/20\n",
      "310/310 [==============================] - 2s 5ms/step - loss: 0.3669 - val_loss: 0.3823\n",
      "Epoch 13/20\n",
      "310/310 [==============================] - 2s 5ms/step - loss: 0.3662 - val_loss: 0.3747\n",
      "Epoch 14/20\n",
      "310/310 [==============================] - 2s 5ms/step - loss: 0.3595 - val_loss: 0.3755\n",
      "Epoch 15/20\n",
      "310/310 [==============================] - 2s 5ms/step - loss: 0.3552 - val_loss: 0.3793\n",
      "Epoch 16/20\n",
      "310/310 [==============================] - 2s 5ms/step - loss: 0.3513 - val_loss: 0.3759\n",
      "Epoch 17/20\n",
      "310/310 [==============================] - 2s 5ms/step - loss: 0.3505 - val_loss: 0.3757\n",
      "Epoch 18/20\n",
      "310/310 [==============================] - 2s 5ms/step - loss: 0.3479 - val_loss: 0.3699\n",
      "Epoch 19/20\n",
      "310/310 [==============================] - 2s 5ms/step - loss: 0.3413 - val_loss: 0.3654\n",
      "Epoch 20/20\n",
      "310/310 [==============================] - 2s 5ms/step - loss: 0.3412 - val_loss: 0.3661\n"
     ]
    }
   ],
   "source": [
    "Epochs = 20\n",
    "history=housingModel_ann.fit(X_train_sc, y_train_full, epochs=Epochs, validation_data=(X_valid_sc,y_valid))"
   ]
  },
  {
   "cell_type": "code",
   "execution_count": 39,
   "id": "e4885a7d",
   "metadata": {},
   "outputs": [
    {
     "data": {
      "text/plain": [
       "<Axes: >"
      ]
     },
     "execution_count": 39,
     "metadata": {},
     "output_type": "execute_result"
    },
    {
     "data": {
      "image/png": "[encoded data removed]",
      "text/plain": [
       "<Figure size 640x480 with 1 Axes>"
      ]
     },
     "metadata": {},
     "output_type": "display_data"
    }
   ],
   "source": [
    "pd.DataFrame(history.history).plot()"
   ]
  },
  {
   "cell_type": "code",
   "execution_count": 41,
   "id": "48e8d2fd",
   "metadata": {},
   "outputs": [
    {
     "name": "stdout",
     "output_type": "stream",
     "text": [
      "162/162 [==============================] - 0s 2ms/step - loss: 0.3474\n"
     ]
    },
    {
     "data": {
      "text/plain": [
       "0.347356379032135"
      ]
     },
     "execution_count": 41,
     "metadata": {},
     "output_type": "execute_result"
    }
   ],
   "source": [
    "housingModel_ann.evaluate(X_test_sc,y_test)"
   ]
  },
  {
   "cell_type": "code",
   "execution_count": 42,
   "id": "f797d045",
   "metadata": {},
   "outputs": [
    {
     "name": "stdout",
     "output_type": "stream",
     "text": [
      "162/162 [==============================] - 1s 2ms/step\n"
     ]
    }
   ],
   "source": [
    "y_pred_ann=housingModel_ann.predict(X_test_sc)"
   ]
  },
  {
   "cell_type": "code",
   "execution_count": 49,
   "id": "f6278fe7",
   "metadata": {},
   "outputs": [
    {
     "name": "stdout",
     "output_type": "stream",
     "text": [
      "mse:  0.3473563754412899\n",
      "r2_score:  0.680586715953575\n",
      "mae:  0.680586715953575\n"
     ]
    }
   ],
   "source": [
    "print('mse: ', mean_squared_error(y_pred_ann, y_test))\n",
    "print('r2_score: ',r2_score(y_pred_ann, y_test))\n",
    "print('mae: ',r2_score(y_pred_ann, y_test))"
   ]
  },
  {
   "cell_type": "markdown",
   "id": "13785819",
   "metadata": {},
   "source": [
    "# Comparison and Analysis:\n",
    "\n",
    "1. **Performance Metrics:**\n",
    "Linear Regression Metrics:\n",
    "Mean Squared Error (MSE): 0.5437\n",
    "R-squared (R2): 0.5891\n",
    "**ANN Metrics:**\n",
    "Mean Squared Error (MSE): 0.3474\n",
    "R-squared (R2): 0.6806\n",
    "\n",
    "2. **Strengths and Weaknesses:**\n",
    "\n",
    "Linear Regression:\n",
    "--Strengths:\n",
    "Simplicity and interpretability.\n",
    "Fast training on large datasets.\n",
    "--Weaknesses:\n",
    "Limited ability to capture complex relationships.\n",
    "Assumes linear relationships between features.\n",
    "\n",
    "Artificial Neural Network (ANN):\n",
    "--Strengths:\n",
    "Ability to model complex, non-linear relationships.\n",
    "Effective for tasks with large amounts of data.\n",
    "--Weaknesses:\n",
    "Prone to overfitting, especially on small datasets.\n",
    "Requires careful tuning of hyperparameters.\n",
    "\n",
    "3. **Complexity and Predictive Performance:**\n",
    "The ANN model demonstrates better performance, as indicated by lower MSE and higher R-squared compared to Linear Regression.\n",
    "The complexity of the ANN, with multiple hidden layers, allows it to learn intricate patterns and relationships in the data, contributing to improved predictive performance.\n",
    "\n"
   ]
  },
  {
   "cell_type": "code",
   "execution_count": 52,
   "id": "36006676",
   "metadata": {},
   "outputs": [
    {
     "data": {
      "image/png": "[encoded data removed]",
      "text/plain": [
       "<Figure size 640x480 with 1 Axes>"
      ]
     },
     "metadata": {},
     "output_type": "display_data"
    },
    {
     "data": {
      "image/png": "[encoded data removed]",
      "text/plain": [
       "<Figure size 640x480 with 1 Axes>"
      ]
     },
     "metadata": {},
     "output_type": "display_data"
    }
   ],
   "source": [
    "### Visualization:\n",
    "\n",
    "\n",
    "import matplotlib.pyplot as plt\n",
    "\n",
    "# Scatter plot for Linear Regression\n",
    "plt.scatter(y_test, y_pred, label='Linear Regression')\n",
    "plt.xlabel('Actual Values')\n",
    "plt.ylabel('Predicted Values')\n",
    "plt.legend()\n",
    "plt.title('Linear Regression: Actual vs. Predicted')\n",
    "plt.show()\n",
    "\n",
    "# Scatter plot for ANN\n",
    "plt.scatter(y_test, y_pred_ann, label='ANN')\n",
    "plt.xlabel('Actual Values')\n",
    "plt.ylabel('Predicted Values')\n",
    "plt.legend()\n",
    "plt.title('ANN: Actual vs. Predicted')\n",
    "plt.show()\n"
   ]
  },
  {
   "cell_type": "markdown",
   "id": "68f7a9b2",
   "metadata": {},
   "source": [
    "### Conclusion:\n",
    "\n",
    "#### Key Findings:\n",
    "\n",
    "1. **Model Performance:**\n",
    "   The Artificial Neural Network (ANN) model outperforms Linear Regression in predicting house prices for the California Housing dataset. The ANN demonstrates lower Mean Squared Error (MSE) and higher R-squared (R2), indicating better predictive performance.\n",
    "\n",
    "2. **Complexity Matters:**\n",
    "   The complexity of the ANN architecture, with multiple hidden layers, enables it to capture intricate non-linear relationships in the data. Linear Regression, while interpretable and straightforward, struggles to capture complex patterns.\n",
    "\n",
    "#### Insights:\n",
    "\n",
    "3. **Better Model for Prediction:**\n",
    "   The ANN, with its ability to model complex relationships, is more suitable for predicting house prices in this dataset. The higher R-squared suggests that the ANN explains a larger proportion of the variance in the target variable compared to Linear Regression.\n",
    "\n",
    "4. **Consideration for Model Choice:**\n",
    "   The choice between models should consider the nature of the data and the complexity of the underlying relationships. For datasets with non-linear patterns and interactions, more complex models like ANNs may yield better results.\n",
    "\n",
    "#### Challenges:\n",
    "\n",
    "5. **Overfitting Concerns:**\n",
    "   One challenge encountered, especially with ANNs, is the potential for overfitting, particularly on smaller datasets. Addressing overfitting requires careful tuning of hyperparameters and the use of regularization techniques.\n",
    "\n",
    "6. **Hyperparameter Tuning:**\n",
    "   The performance of the ANN model can be sensitive to hyperparameter choices. Finding the optimal combination of parameters requires experimentation and tuning to balance model complexity and generalization.\n",
    "\n",
    "7. **Interpretability Trade-off:**\n",
    "   While the ANN provides superior predictive performance, it sacrifices some interpretability compared to Linear Regression. Understanding the trade-off between model complexity and interpretability is crucial, depending on the context of the analysis.\n"
   ]
  },
  {
   "cell_type": "code",
   "execution_count": null,
   "id": "c6a636b8",
   "metadata": {},
   "outputs": [],
   "source": []
  }
 ],
 "metadata": {
  "kernelspec": {
   "display_name": "Python 3 (ipykernel)",
   "language": "python",
   "name": "python3"
  },
  "language_info": {
   "codemirror_mode": {
    "name": "ipython",
    "version": 3
   },
   "file_extension": ".py",
   "mimetype": "text/x-python",
   "name": "python",
   "nbconvert_exporter": "python",
   "pygments_lexer": "ipython3",
   "version": "3.11.4"
  }
 },
 "nbformat": 4,
 "nbformat_minor": 5
}
